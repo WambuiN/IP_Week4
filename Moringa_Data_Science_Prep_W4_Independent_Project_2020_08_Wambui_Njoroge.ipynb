{
  "nbformat": 4,
  "nbformat_minor": 0,
  "metadata": {
    "colab": {
      "name": "Moringa_Data_Science_Prep_W4_Independent_Project_2020_08_Wambui_Njoroge.ipynb",
      "provenance": [],
      "collapsed_sections": [],
      "authorship_tag": "ABX9TyPCt5Dz03xNwnYyjM0TS1zY",
      "include_colab_link": true
    },
    "kernelspec": {
      "name": "python3",
      "display_name": "Python 3"
    }
  },
  "cells": [
    {
      "cell_type": "markdown",
      "metadata": {
        "id": "view-in-github",
        "colab_type": "text"
      },
      "source": [
        "<a href=\"https://colab.research.google.com/github/WambuiN/IP_Week4/blob/master/Moringa_Data_Science_Prep_W4_Independent_Project_2020_08_Wambui_Njoroge.ipynb\" target=\"_parent\"><img src=\"https://colab.research.google.com/assets/colab-badge.svg\" alt=\"Open In Colab\"/></a>"
      ]
    },
    {
      "cell_type": "markdown",
      "metadata": {
        "id": "OPTbpIPGNBRS",
        "colab_type": "text"
      },
      "source": [
        "DATA PREPARATION"
      ]
    },
    {
      "cell_type": "markdown",
      "metadata": {
        "id": "WTFbxr9ZNIkL",
        "colab_type": "text"
      },
      "source": [
        "The First step of our analysis involved loading our libraries into our Notebook.\n"
      ]
    },
    {
      "cell_type": "code",
      "metadata": {
        "colab_type": "code",
        "id": "0IeVuvCONTSL",
        "colab": {}
      },
      "source": [
        "#IMPORTING PYTHON LIBRARIES\n",
        "import pandas as pd\n",
        "import numpy as np\n",
        "import datetime"
      ],
      "execution_count": null,
      "outputs": []
    },
    {
      "cell_type": "markdown",
      "metadata": {
        "id": "BDlD7MfhNolO",
        "colab_type": "text"
      },
      "source": [
        "Next we loaded our dataset into the Notebook ,previewed it and accessed the information on the datatype of our columns."
      ]
    },
    {
      "cell_type": "code",
      "metadata": {
        "id": "FVn53jPSMAzT",
        "colab_type": "code",
        "colab": {}
      },
      "source": [
        "#READING THE FILE\n",
        "df = pd.read_csv(\"Autolib_dataset (3).csv\")"
      ],
      "execution_count": null,
      "outputs": []
    },
    {
      "cell_type": "code",
      "metadata": {
        "id": "s2Ftjx8lN31V",
        "colab_type": "code",
        "colab": {
          "base_uri": "https://localhost:8080/",
          "height": 299
        },
        "outputId": "a483af14-9bd7-4676-ac71-c2b0117fc860"
      },
      "source": [
        "df.head(3)\n"
      ],
      "execution_count": null,
      "outputs": [
        {
          "output_type": "execute_result",
          "data": {
            "text/html": [
              "<div>\n",
              "<style scoped>\n",
              "    .dataframe tbody tr th:only-of-type {\n",
              "        vertical-align: middle;\n",
              "    }\n",
              "\n",
              "    .dataframe tbody tr th {\n",
              "        vertical-align: top;\n",
              "    }\n",
              "\n",
              "    .dataframe thead th {\n",
              "        text-align: right;\n",
              "    }\n",
              "</style>\n",
              "<table border=\"1\" class=\"dataframe\">\n",
              "  <thead>\n",
              "    <tr style=\"text-align: right;\">\n",
              "      <th></th>\n",
              "      <th>Address</th>\n",
              "      <th>Cars</th>\n",
              "      <th>Bluecar counter</th>\n",
              "      <th>Utilib counter</th>\n",
              "      <th>Utilib 1.4 counter</th>\n",
              "      <th>Charge Slots</th>\n",
              "      <th>Charging Status</th>\n",
              "      <th>City</th>\n",
              "      <th>Displayed comment</th>\n",
              "      <th>ID</th>\n",
              "      <th>Kind</th>\n",
              "      <th>Geo point</th>\n",
              "      <th>Postal code</th>\n",
              "      <th>Public name</th>\n",
              "      <th>Rental status</th>\n",
              "      <th>Scheduled at</th>\n",
              "      <th>Slots</th>\n",
              "      <th>Station type</th>\n",
              "      <th>Status</th>\n",
              "      <th>Subscription status</th>\n",
              "      <th>year</th>\n",
              "      <th>month</th>\n",
              "      <th>day</th>\n",
              "      <th>hour</th>\n",
              "      <th>minute</th>\n",
              "    </tr>\n",
              "  </thead>\n",
              "  <tbody>\n",
              "    <tr>\n",
              "      <th>0</th>\n",
              "      <td>2 Avenue de Suffren</td>\n",
              "      <td>0</td>\n",
              "      <td>0</td>\n",
              "      <td>0</td>\n",
              "      <td>0</td>\n",
              "      <td>0</td>\n",
              "      <td>nonexistent</td>\n",
              "      <td>Paris</td>\n",
              "      <td>NaN</td>\n",
              "      <td>paris-suffren-2</td>\n",
              "      <td>STATION</td>\n",
              "      <td>48.857, 2.2917</td>\n",
              "      <td>75015</td>\n",
              "      <td>Paris/Suffren/2</td>\n",
              "      <td>operational</td>\n",
              "      <td>NaN</td>\n",
              "      <td>2</td>\n",
              "      <td>station</td>\n",
              "      <td>ok</td>\n",
              "      <td>nonexistent</td>\n",
              "      <td>2018</td>\n",
              "      <td>4</td>\n",
              "      <td>8</td>\n",
              "      <td>11</td>\n",
              "      <td>43</td>\n",
              "    </tr>\n",
              "    <tr>\n",
              "      <th>1</th>\n",
              "      <td>145 Rue Raymond Losserand</td>\n",
              "      <td>6</td>\n",
              "      <td>6</td>\n",
              "      <td>0</td>\n",
              "      <td>0</td>\n",
              "      <td>0</td>\n",
              "      <td>operational</td>\n",
              "      <td>Paris</td>\n",
              "      <td>NaN</td>\n",
              "      <td>paris-raymondlosserand-145</td>\n",
              "      <td>STATION</td>\n",
              "      <td>48.83126, 2.313088</td>\n",
              "      <td>75014</td>\n",
              "      <td>Paris/Raymond Losserand/145</td>\n",
              "      <td>operational</td>\n",
              "      <td>NaN</td>\n",
              "      <td>0</td>\n",
              "      <td>station</td>\n",
              "      <td>ok</td>\n",
              "      <td>nonexistent</td>\n",
              "      <td>2018</td>\n",
              "      <td>4</td>\n",
              "      <td>6</td>\n",
              "      <td>7</td>\n",
              "      <td>24</td>\n",
              "    </tr>\n",
              "    <tr>\n",
              "      <th>2</th>\n",
              "      <td>2 Avenue John Fitzgerald Kennedy</td>\n",
              "      <td>3</td>\n",
              "      <td>3</td>\n",
              "      <td>0</td>\n",
              "      <td>2</td>\n",
              "      <td>0</td>\n",
              "      <td>operational</td>\n",
              "      <td>Le Bourget</td>\n",
              "      <td>NaN</td>\n",
              "      <td>lebourget-johnfitzgeraldkennedy-2</td>\n",
              "      <td>STATION</td>\n",
              "      <td>48.938103, 2.4286035</td>\n",
              "      <td>93350</td>\n",
              "      <td>Le Bourget/John Fitzgerald Kennedy/2</td>\n",
              "      <td>operational</td>\n",
              "      <td>NaN</td>\n",
              "      <td>1</td>\n",
              "      <td>station</td>\n",
              "      <td>ok</td>\n",
              "      <td>nonexistent</td>\n",
              "      <td>2018</td>\n",
              "      <td>4</td>\n",
              "      <td>3</td>\n",
              "      <td>20</td>\n",
              "      <td>14</td>\n",
              "    </tr>\n",
              "  </tbody>\n",
              "</table>\n",
              "</div>"
            ],
            "text/plain": [
              "                            Address  Cars  Bluecar counter  ...  day  hour  minute\n",
              "0               2 Avenue de Suffren     0                0  ...    8    11      43\n",
              "1         145 Rue Raymond Losserand     6                6  ...    6     7      24\n",
              "2  2 Avenue John Fitzgerald Kennedy     3                3  ...    3    20      14\n",
              "\n",
              "[3 rows x 25 columns]"
            ]
          },
          "metadata": {
            "tags": []
          },
          "execution_count": 4
        }
      ]
    },
    {
      "cell_type": "markdown",
      "metadata": {
        "id": "1sLn8MA0NNlT",
        "colab_type": "text"
      },
      "source": [
        "ACCESSING INFORMATION ABOUT THE DATA\n"
      ]
    },
    {
      "cell_type": "code",
      "metadata": {
        "id": "X3qx4vbcNyBu",
        "colab_type": "code",
        "colab": {
          "base_uri": "https://localhost:8080/",
          "height": 572
        },
        "outputId": "e1faf20f-e3e4-4b42-ed7a-8e4bf7d90026"
      },
      "source": [
        "df.info()"
      ],
      "execution_count": null,
      "outputs": [
        {
          "output_type": "stream",
          "text": [
            "<class 'pandas.core.frame.DataFrame'>\n",
            "RangeIndex: 5000 entries, 0 to 4999\n",
            "Data columns (total 25 columns):\n",
            " #   Column               Non-Null Count  Dtype \n",
            "---  ------               --------------  ----- \n",
            " 0   Address              5000 non-null   object\n",
            " 1   Cars                 5000 non-null   int64 \n",
            " 2   Bluecar counter      5000 non-null   int64 \n",
            " 3   Utilib counter       5000 non-null   int64 \n",
            " 4   Utilib 1.4 counter   5000 non-null   int64 \n",
            " 5   Charge Slots         5000 non-null   int64 \n",
            " 6   Charging Status      5000 non-null   object\n",
            " 7   City                 5000 non-null   object\n",
            " 8   Displayed comment    111 non-null    object\n",
            " 9   ID                   5000 non-null   object\n",
            " 10  Kind                 5000 non-null   object\n",
            " 11  Geo point            5000 non-null   object\n",
            " 12  Postal code          5000 non-null   int64 \n",
            " 13  Public name          5000 non-null   object\n",
            " 14  Rental status        5000 non-null   object\n",
            " 15  Scheduled at         47 non-null     object\n",
            " 16  Slots                5000 non-null   int64 \n",
            " 17  Station type         5000 non-null   object\n",
            " 18  Status               5000 non-null   object\n",
            " 19  Subscription status  5000 non-null   object\n",
            " 20  year                 5000 non-null   int64 \n",
            " 21  month                5000 non-null   int64 \n",
            " 22  day                  5000 non-null   int64 \n",
            " 23  hour                 5000 non-null   int64 \n",
            " 24  minute               5000 non-null   int64 \n",
            "dtypes: int64(12), object(13)\n",
            "memory usage: 976.7+ KB\n"
          ],
          "name": "stdout"
        }
      ]
    },
    {
      "cell_type": "markdown",
      "metadata": {
        "id": "G5chgINkOekw",
        "colab_type": "text"
      },
      "source": [
        "DATA CLEANING"
      ]
    },
    {
      "cell_type": "code",
      "metadata": {
        "id": "A-wrxfHdOha7",
        "colab_type": "code",
        "colab": {
          "base_uri": "https://localhost:8080/",
          "height": 468
        },
        "outputId": "c0921aa5-9d10-44c8-dc5f-fb0b5ef38688"
      },
      "source": [
        "df.isnull().any()"
      ],
      "execution_count": null,
      "outputs": [
        {
          "output_type": "execute_result",
          "data": {
            "text/plain": [
              "Address                False\n",
              "Cars                   False\n",
              "Bluecar counter        False\n",
              "Utilib counter         False\n",
              "Utilib 1.4 counter     False\n",
              "Charge Slots           False\n",
              "Charging Status        False\n",
              "City                   False\n",
              "Displayed comment       True\n",
              "ID                     False\n",
              "Kind                   False\n",
              "Geo point              False\n",
              "Postal code            False\n",
              "Public name            False\n",
              "Rental status          False\n",
              "Scheduled at            True\n",
              "Slots                  False\n",
              "Station type           False\n",
              "Status                 False\n",
              "Subscription status    False\n",
              "year                   False\n",
              "month                  False\n",
              "day                    False\n",
              "hour                   False\n",
              "minute                 False\n",
              "dtype: bool"
            ]
          },
          "metadata": {
            "tags": []
          },
          "execution_count": 6
        }
      ]
    },
    {
      "cell_type": "code",
      "metadata": {
        "id": "nlJVNsNbO0z_",
        "colab_type": "code",
        "colab": {
          "base_uri": "https://localhost:8080/",
          "height": 103
        },
        "outputId": "5d79d64b-b52d-442c-b25a-5a93d2181b70"
      },
      "source": [
        "df[df.duplicated()]"
      ],
      "execution_count": null,
      "outputs": [
        {
          "output_type": "execute_result",
          "data": {
            "text/html": [
              "<div>\n",
              "<style scoped>\n",
              "    .dataframe tbody tr th:only-of-type {\n",
              "        vertical-align: middle;\n",
              "    }\n",
              "\n",
              "    .dataframe tbody tr th {\n",
              "        vertical-align: top;\n",
              "    }\n",
              "\n",
              "    .dataframe thead th {\n",
              "        text-align: right;\n",
              "    }\n",
              "</style>\n",
              "<table border=\"1\" class=\"dataframe\">\n",
              "  <thead>\n",
              "    <tr style=\"text-align: right;\">\n",
              "      <th></th>\n",
              "      <th>Address</th>\n",
              "      <th>Cars</th>\n",
              "      <th>Bluecar counter</th>\n",
              "      <th>Utilib counter</th>\n",
              "      <th>Utilib 1.4 counter</th>\n",
              "      <th>Charge Slots</th>\n",
              "      <th>Charging Status</th>\n",
              "      <th>City</th>\n",
              "      <th>Displayed comment</th>\n",
              "      <th>ID</th>\n",
              "      <th>Kind</th>\n",
              "      <th>Geo point</th>\n",
              "      <th>Postal code</th>\n",
              "      <th>Public name</th>\n",
              "      <th>Rental status</th>\n",
              "      <th>Scheduled at</th>\n",
              "      <th>Slots</th>\n",
              "      <th>Station type</th>\n",
              "      <th>Status</th>\n",
              "      <th>Subscription status</th>\n",
              "      <th>year</th>\n",
              "      <th>month</th>\n",
              "      <th>day</th>\n",
              "      <th>hour</th>\n",
              "      <th>minute</th>\n",
              "    </tr>\n",
              "  </thead>\n",
              "  <tbody>\n",
              "  </tbody>\n",
              "</table>\n",
              "</div>"
            ],
            "text/plain": [
              "Empty DataFrame\n",
              "Columns: [Address, Cars, Bluecar counter, Utilib counter, Utilib 1.4 counter, Charge Slots, Charging Status, City, Displayed comment, ID, Kind, Geo point, Postal code, Public name, Rental status, Scheduled at, Slots, Station type, Status, Subscription status, year, month, day, hour, minute]\n",
              "Index: []"
            ]
          },
          "metadata": {
            "tags": []
          },
          "execution_count": 7
        }
      ]
    },
    {
      "cell_type": "markdown",
      "metadata": {
        "id": "7RUe-8pDuZDo",
        "colab_type": "text"
      },
      "source": [
        "Searching for Duplicates"
      ]
    },
    {
      "cell_type": "code",
      "metadata": {
        "id": "EqhktlYwPBCb",
        "colab_type": "code",
        "colab": {
          "base_uri": "https://localhost:8080/",
          "height": 447
        },
        "outputId": "3fcb445b-147a-43c2-f46c-76dc00c73ba2"
      },
      "source": [
        "df2 = df.drop_duplicates()\n",
        "df2.head()"
      ],
      "execution_count": null,
      "outputs": [
        {
          "output_type": "execute_result",
          "data": {
            "text/html": [
              "<div>\n",
              "<style scoped>\n",
              "    .dataframe tbody tr th:only-of-type {\n",
              "        vertical-align: middle;\n",
              "    }\n",
              "\n",
              "    .dataframe tbody tr th {\n",
              "        vertical-align: top;\n",
              "    }\n",
              "\n",
              "    .dataframe thead th {\n",
              "        text-align: right;\n",
              "    }\n",
              "</style>\n",
              "<table border=\"1\" class=\"dataframe\">\n",
              "  <thead>\n",
              "    <tr style=\"text-align: right;\">\n",
              "      <th></th>\n",
              "      <th>Address</th>\n",
              "      <th>Cars</th>\n",
              "      <th>Bluecar counter</th>\n",
              "      <th>Utilib counter</th>\n",
              "      <th>Utilib 1.4 counter</th>\n",
              "      <th>Charge Slots</th>\n",
              "      <th>Charging Status</th>\n",
              "      <th>City</th>\n",
              "      <th>Displayed comment</th>\n",
              "      <th>ID</th>\n",
              "      <th>Kind</th>\n",
              "      <th>Geo point</th>\n",
              "      <th>Postal code</th>\n",
              "      <th>Public name</th>\n",
              "      <th>Rental status</th>\n",
              "      <th>Scheduled at</th>\n",
              "      <th>Slots</th>\n",
              "      <th>Station type</th>\n",
              "      <th>Status</th>\n",
              "      <th>Subscription status</th>\n",
              "      <th>year</th>\n",
              "      <th>month</th>\n",
              "      <th>day</th>\n",
              "      <th>hour</th>\n",
              "      <th>minute</th>\n",
              "    </tr>\n",
              "  </thead>\n",
              "  <tbody>\n",
              "    <tr>\n",
              "      <th>0</th>\n",
              "      <td>2 Avenue de Suffren</td>\n",
              "      <td>0</td>\n",
              "      <td>0</td>\n",
              "      <td>0</td>\n",
              "      <td>0</td>\n",
              "      <td>0</td>\n",
              "      <td>nonexistent</td>\n",
              "      <td>Paris</td>\n",
              "      <td>NaN</td>\n",
              "      <td>paris-suffren-2</td>\n",
              "      <td>STATION</td>\n",
              "      <td>48.857, 2.2917</td>\n",
              "      <td>75015</td>\n",
              "      <td>Paris/Suffren/2</td>\n",
              "      <td>operational</td>\n",
              "      <td>NaN</td>\n",
              "      <td>2</td>\n",
              "      <td>station</td>\n",
              "      <td>ok</td>\n",
              "      <td>nonexistent</td>\n",
              "      <td>2018</td>\n",
              "      <td>4</td>\n",
              "      <td>8</td>\n",
              "      <td>11</td>\n",
              "      <td>43</td>\n",
              "    </tr>\n",
              "    <tr>\n",
              "      <th>1</th>\n",
              "      <td>145 Rue Raymond Losserand</td>\n",
              "      <td>6</td>\n",
              "      <td>6</td>\n",
              "      <td>0</td>\n",
              "      <td>0</td>\n",
              "      <td>0</td>\n",
              "      <td>operational</td>\n",
              "      <td>Paris</td>\n",
              "      <td>NaN</td>\n",
              "      <td>paris-raymondlosserand-145</td>\n",
              "      <td>STATION</td>\n",
              "      <td>48.83126, 2.313088</td>\n",
              "      <td>75014</td>\n",
              "      <td>Paris/Raymond Losserand/145</td>\n",
              "      <td>operational</td>\n",
              "      <td>NaN</td>\n",
              "      <td>0</td>\n",
              "      <td>station</td>\n",
              "      <td>ok</td>\n",
              "      <td>nonexistent</td>\n",
              "      <td>2018</td>\n",
              "      <td>4</td>\n",
              "      <td>6</td>\n",
              "      <td>7</td>\n",
              "      <td>24</td>\n",
              "    </tr>\n",
              "    <tr>\n",
              "      <th>2</th>\n",
              "      <td>2 Avenue John Fitzgerald Kennedy</td>\n",
              "      <td>3</td>\n",
              "      <td>3</td>\n",
              "      <td>0</td>\n",
              "      <td>2</td>\n",
              "      <td>0</td>\n",
              "      <td>operational</td>\n",
              "      <td>Le Bourget</td>\n",
              "      <td>NaN</td>\n",
              "      <td>lebourget-johnfitzgeraldkennedy-2</td>\n",
              "      <td>STATION</td>\n",
              "      <td>48.938103, 2.4286035</td>\n",
              "      <td>93350</td>\n",
              "      <td>Le Bourget/John Fitzgerald Kennedy/2</td>\n",
              "      <td>operational</td>\n",
              "      <td>NaN</td>\n",
              "      <td>1</td>\n",
              "      <td>station</td>\n",
              "      <td>ok</td>\n",
              "      <td>nonexistent</td>\n",
              "      <td>2018</td>\n",
              "      <td>4</td>\n",
              "      <td>3</td>\n",
              "      <td>20</td>\n",
              "      <td>14</td>\n",
              "    </tr>\n",
              "    <tr>\n",
              "      <th>3</th>\n",
              "      <td>51 Rue EugÃ¨ne OudinÃ©</td>\n",
              "      <td>3</td>\n",
              "      <td>3</td>\n",
              "      <td>1</td>\n",
              "      <td>0</td>\n",
              "      <td>1</td>\n",
              "      <td>operational</td>\n",
              "      <td>Paris</td>\n",
              "      <td>NaN</td>\n",
              "      <td>paris-eugeneoudine-51</td>\n",
              "      <td>STATION</td>\n",
              "      <td>48.8250327, 2.3725162</td>\n",
              "      <td>75013</td>\n",
              "      <td>Paris/EugÃ¨ne OudinÃ©/51</td>\n",
              "      <td>operational</td>\n",
              "      <td>NaN</td>\n",
              "      <td>2</td>\n",
              "      <td>station</td>\n",
              "      <td>ok</td>\n",
              "      <td>nonexistent</td>\n",
              "      <td>2018</td>\n",
              "      <td>4</td>\n",
              "      <td>4</td>\n",
              "      <td>4</td>\n",
              "      <td>37</td>\n",
              "    </tr>\n",
              "    <tr>\n",
              "      <th>4</th>\n",
              "      <td>6 avenue de la Porte de Champerret</td>\n",
              "      <td>3</td>\n",
              "      <td>3</td>\n",
              "      <td>0</td>\n",
              "      <td>0</td>\n",
              "      <td>0</td>\n",
              "      <td>nonexistent</td>\n",
              "      <td>Paris</td>\n",
              "      <td>NaN</td>\n",
              "      <td>paris-portedechamperret-6</td>\n",
              "      <td>PARKING</td>\n",
              "      <td>48.8862632, 2.2874511</td>\n",
              "      <td>75017</td>\n",
              "      <td>Paris/Porte de Champerret/6</td>\n",
              "      <td>operational</td>\n",
              "      <td>NaN</td>\n",
              "      <td>3</td>\n",
              "      <td>station</td>\n",
              "      <td>ok</td>\n",
              "      <td>nonexistent</td>\n",
              "      <td>2018</td>\n",
              "      <td>4</td>\n",
              "      <td>8</td>\n",
              "      <td>17</td>\n",
              "      <td>23</td>\n",
              "    </tr>\n",
              "  </tbody>\n",
              "</table>\n",
              "</div>"
            ],
            "text/plain": [
              "                              Address  Cars  Bluecar counter  ...  day  hour  minute\n",
              "0                 2 Avenue de Suffren     0                0  ...    8    11      43\n",
              "1           145 Rue Raymond Losserand     6                6  ...    6     7      24\n",
              "2    2 Avenue John Fitzgerald Kennedy     3                3  ...    3    20      14\n",
              "3              51 Rue EugÃ¨ne OudinÃ©     3                3  ...    4     4      37\n",
              "4  6 avenue de la Porte de Champerret     3                3  ...    8    17      23\n",
              "\n",
              "[5 rows x 25 columns]"
            ]
          },
          "metadata": {
            "tags": []
          },
          "execution_count": 9
        }
      ]
    },
    {
      "cell_type": "markdown",
      "metadata": {
        "id": "6RpJERl4uTnA",
        "colab_type": "text"
      },
      "source": [
        "Dropping Columns"
      ]
    },
    {
      "cell_type": "code",
      "metadata": {
        "id": "dItecr25PPsL",
        "colab_type": "code",
        "colab": {
          "base_uri": "https://localhost:8080/",
          "height": 230
        },
        "outputId": "72355a19-e6d5-4b8f-a8cf-d991813e747b"
      },
      "source": [
        "\n",
        "df2.drop(['Displayed comment','ID', 'Geo point','Cars'], axis = 1, inplace=True)\n",
        "df2.drop(['Address'], axis=1, inplace=True)\n",
        "df2.head(3)"
      ],
      "execution_count": null,
      "outputs": [
        {
          "output_type": "execute_result",
          "data": {
            "text/html": [
              "<div>\n",
              "<style scoped>\n",
              "    .dataframe tbody tr th:only-of-type {\n",
              "        vertical-align: middle;\n",
              "    }\n",
              "\n",
              "    .dataframe tbody tr th {\n",
              "        vertical-align: top;\n",
              "    }\n",
              "\n",
              "    .dataframe thead th {\n",
              "        text-align: right;\n",
              "    }\n",
              "</style>\n",
              "<table border=\"1\" class=\"dataframe\">\n",
              "  <thead>\n",
              "    <tr style=\"text-align: right;\">\n",
              "      <th></th>\n",
              "      <th>Bluecar counter</th>\n",
              "      <th>Utilib counter</th>\n",
              "      <th>Utilib 1.4 counter</th>\n",
              "      <th>Charge Slots</th>\n",
              "      <th>Charging Status</th>\n",
              "      <th>City</th>\n",
              "      <th>Kind</th>\n",
              "      <th>Postal code</th>\n",
              "      <th>Public name</th>\n",
              "      <th>Rental status</th>\n",
              "      <th>Scheduled at</th>\n",
              "      <th>Slots</th>\n",
              "      <th>Station type</th>\n",
              "      <th>Status</th>\n",
              "      <th>Subscription status</th>\n",
              "      <th>year</th>\n",
              "      <th>month</th>\n",
              "      <th>day</th>\n",
              "      <th>hour</th>\n",
              "      <th>minute</th>\n",
              "      <th>Counter</th>\n",
              "    </tr>\n",
              "  </thead>\n",
              "  <tbody>\n",
              "    <tr>\n",
              "      <th>0</th>\n",
              "      <td>0</td>\n",
              "      <td>0</td>\n",
              "      <td>0</td>\n",
              "      <td>0</td>\n",
              "      <td>nonexistent</td>\n",
              "      <td>Paris</td>\n",
              "      <td>STATION</td>\n",
              "      <td>75015</td>\n",
              "      <td>Paris/Suffren/2</td>\n",
              "      <td>operational</td>\n",
              "      <td>NaN</td>\n",
              "      <td>2</td>\n",
              "      <td>station</td>\n",
              "      <td>ok</td>\n",
              "      <td>nonexistent</td>\n",
              "      <td>2018</td>\n",
              "      <td>4</td>\n",
              "      <td>8</td>\n",
              "      <td>11</td>\n",
              "      <td>43</td>\n",
              "      <td>NaN</td>\n",
              "    </tr>\n",
              "    <tr>\n",
              "      <th>1</th>\n",
              "      <td>6</td>\n",
              "      <td>0</td>\n",
              "      <td>0</td>\n",
              "      <td>0</td>\n",
              "      <td>operational</td>\n",
              "      <td>Paris</td>\n",
              "      <td>STATION</td>\n",
              "      <td>75014</td>\n",
              "      <td>Paris/Raymond Losserand/145</td>\n",
              "      <td>operational</td>\n",
              "      <td>NaN</td>\n",
              "      <td>0</td>\n",
              "      <td>station</td>\n",
              "      <td>ok</td>\n",
              "      <td>nonexistent</td>\n",
              "      <td>2018</td>\n",
              "      <td>4</td>\n",
              "      <td>6</td>\n",
              "      <td>7</td>\n",
              "      <td>24</td>\n",
              "      <td>6.0</td>\n",
              "    </tr>\n",
              "    <tr>\n",
              "      <th>3</th>\n",
              "      <td>3</td>\n",
              "      <td>1</td>\n",
              "      <td>0</td>\n",
              "      <td>1</td>\n",
              "      <td>operational</td>\n",
              "      <td>Paris</td>\n",
              "      <td>STATION</td>\n",
              "      <td>75013</td>\n",
              "      <td>Paris/EugÃ¨ne OudinÃ©/51</td>\n",
              "      <td>operational</td>\n",
              "      <td>NaN</td>\n",
              "      <td>2</td>\n",
              "      <td>station</td>\n",
              "      <td>ok</td>\n",
              "      <td>nonexistent</td>\n",
              "      <td>2018</td>\n",
              "      <td>4</td>\n",
              "      <td>4</td>\n",
              "      <td>4</td>\n",
              "      <td>37</td>\n",
              "      <td>-3.0</td>\n",
              "    </tr>\n",
              "  </tbody>\n",
              "</table>\n",
              "</div>"
            ],
            "text/plain": [
              "   Bluecar counter  Utilib counter  Utilib 1.4 counter  ...  hour minute Counter\n",
              "0                0               0                   0  ...    11     43     NaN\n",
              "1                6               0                   0  ...     7     24     6.0\n",
              "3                3               1                   0  ...     4     37    -3.0\n",
              "\n",
              "[3 rows x 21 columns]"
            ]
          },
          "metadata": {
            "tags": []
          },
          "execution_count": 55
        }
      ]
    },
    {
      "cell_type": "markdown",
      "metadata": {
        "id": "cB2CfYfeukTS",
        "colab_type": "text"
      },
      "source": [
        "**ANSWERING THE RESEARCH QUESTIONS**"
      ]
    },
    {
      "cell_type": "markdown",
      "metadata": {
        "id": "257_IOfLcXVX",
        "colab_type": "text"
      },
      "source": [
        "Identify the most popular hour of the day for picking up a shared electric car (Bluecar) in the city of Paris over the month of April 2018.\n"
      ]
    },
    {
      "cell_type": "code",
      "metadata": {
        "id": "03EvjfYYggSF",
        "colab_type": "code",
        "colab": {
          "base_uri": "https://localhost:8080/",
          "height": 309
        },
        "outputId": "57d0cac6-511b-4496-d63c-b914b4a1a887"
      },
      "source": [
        "df2['Counter']=df2['Bluecar counter'].diff()\n",
        "df2 = df2[df2['City'] == 'Paris']\n",
        "df2.head()"
      ],
      "execution_count": null,
      "outputs": [
        {
          "output_type": "execute_result",
          "data": {
            "text/html": [
              "<div>\n",
              "<style scoped>\n",
              "    .dataframe tbody tr th:only-of-type {\n",
              "        vertical-align: middle;\n",
              "    }\n",
              "\n",
              "    .dataframe tbody tr th {\n",
              "        vertical-align: top;\n",
              "    }\n",
              "\n",
              "    .dataframe thead th {\n",
              "        text-align: right;\n",
              "    }\n",
              "</style>\n",
              "<table border=\"1\" class=\"dataframe\">\n",
              "  <thead>\n",
              "    <tr style=\"text-align: right;\">\n",
              "      <th></th>\n",
              "      <th>Bluecar counter</th>\n",
              "      <th>Utilib counter</th>\n",
              "      <th>Utilib 1.4 counter</th>\n",
              "      <th>Charge Slots</th>\n",
              "      <th>Charging Status</th>\n",
              "      <th>City</th>\n",
              "      <th>Kind</th>\n",
              "      <th>Postal code</th>\n",
              "      <th>Public name</th>\n",
              "      <th>Rental status</th>\n",
              "      <th>Scheduled at</th>\n",
              "      <th>Slots</th>\n",
              "      <th>Station type</th>\n",
              "      <th>Status</th>\n",
              "      <th>Subscription status</th>\n",
              "      <th>year</th>\n",
              "      <th>month</th>\n",
              "      <th>day</th>\n",
              "      <th>hour</th>\n",
              "      <th>minute</th>\n",
              "      <th>Counter</th>\n",
              "      <th>Utilib_Counter</th>\n",
              "      <th>Utilib_Counter2</th>\n",
              "    </tr>\n",
              "  </thead>\n",
              "  <tbody>\n",
              "    <tr>\n",
              "      <th>0</th>\n",
              "      <td>0</td>\n",
              "      <td>0</td>\n",
              "      <td>0</td>\n",
              "      <td>0</td>\n",
              "      <td>nonexistent</td>\n",
              "      <td>Paris</td>\n",
              "      <td>STATION</td>\n",
              "      <td>75015</td>\n",
              "      <td>Paris/Suffren/2</td>\n",
              "      <td>operational</td>\n",
              "      <td>NaN</td>\n",
              "      <td>2</td>\n",
              "      <td>station</td>\n",
              "      <td>ok</td>\n",
              "      <td>nonexistent</td>\n",
              "      <td>2018</td>\n",
              "      <td>4</td>\n",
              "      <td>8</td>\n",
              "      <td>11</td>\n",
              "      <td>43</td>\n",
              "      <td>NaN</td>\n",
              "      <td>NaN</td>\n",
              "      <td>NaN</td>\n",
              "    </tr>\n",
              "    <tr>\n",
              "      <th>1</th>\n",
              "      <td>6</td>\n",
              "      <td>0</td>\n",
              "      <td>0</td>\n",
              "      <td>0</td>\n",
              "      <td>operational</td>\n",
              "      <td>Paris</td>\n",
              "      <td>STATION</td>\n",
              "      <td>75014</td>\n",
              "      <td>Paris/Raymond Losserand/145</td>\n",
              "      <td>operational</td>\n",
              "      <td>NaN</td>\n",
              "      <td>0</td>\n",
              "      <td>station</td>\n",
              "      <td>ok</td>\n",
              "      <td>nonexistent</td>\n",
              "      <td>2018</td>\n",
              "      <td>4</td>\n",
              "      <td>6</td>\n",
              "      <td>7</td>\n",
              "      <td>24</td>\n",
              "      <td>6.0</td>\n",
              "      <td>0.0</td>\n",
              "      <td>0.0</td>\n",
              "    </tr>\n",
              "    <tr>\n",
              "      <th>3</th>\n",
              "      <td>3</td>\n",
              "      <td>1</td>\n",
              "      <td>0</td>\n",
              "      <td>1</td>\n",
              "      <td>operational</td>\n",
              "      <td>Paris</td>\n",
              "      <td>STATION</td>\n",
              "      <td>75013</td>\n",
              "      <td>Paris/EugÃ¨ne OudinÃ©/51</td>\n",
              "      <td>operational</td>\n",
              "      <td>NaN</td>\n",
              "      <td>2</td>\n",
              "      <td>station</td>\n",
              "      <td>ok</td>\n",
              "      <td>nonexistent</td>\n",
              "      <td>2018</td>\n",
              "      <td>4</td>\n",
              "      <td>4</td>\n",
              "      <td>4</td>\n",
              "      <td>37</td>\n",
              "      <td>-3.0</td>\n",
              "      <td>1.0</td>\n",
              "      <td>0.0</td>\n",
              "    </tr>\n",
              "    <tr>\n",
              "      <th>4</th>\n",
              "      <td>3</td>\n",
              "      <td>0</td>\n",
              "      <td>0</td>\n",
              "      <td>0</td>\n",
              "      <td>nonexistent</td>\n",
              "      <td>Paris</td>\n",
              "      <td>PARKING</td>\n",
              "      <td>75017</td>\n",
              "      <td>Paris/Porte de Champerret/6</td>\n",
              "      <td>operational</td>\n",
              "      <td>NaN</td>\n",
              "      <td>3</td>\n",
              "      <td>station</td>\n",
              "      <td>ok</td>\n",
              "      <td>nonexistent</td>\n",
              "      <td>2018</td>\n",
              "      <td>4</td>\n",
              "      <td>8</td>\n",
              "      <td>17</td>\n",
              "      <td>23</td>\n",
              "      <td>0.0</td>\n",
              "      <td>-1.0</td>\n",
              "      <td>0.0</td>\n",
              "    </tr>\n",
              "    <tr>\n",
              "      <th>5</th>\n",
              "      <td>0</td>\n",
              "      <td>0</td>\n",
              "      <td>0</td>\n",
              "      <td>0</td>\n",
              "      <td>nonexistent</td>\n",
              "      <td>Paris</td>\n",
              "      <td>STATION</td>\n",
              "      <td>75011</td>\n",
              "      <td>Paris/Voltaire/8</td>\n",
              "      <td>operational</td>\n",
              "      <td>NaN</td>\n",
              "      <td>4</td>\n",
              "      <td>station</td>\n",
              "      <td>ok</td>\n",
              "      <td>nonexistent</td>\n",
              "      <td>2018</td>\n",
              "      <td>4</td>\n",
              "      <td>6</td>\n",
              "      <td>7</td>\n",
              "      <td>2</td>\n",
              "      <td>-3.0</td>\n",
              "      <td>0.0</td>\n",
              "      <td>0.0</td>\n",
              "    </tr>\n",
              "  </tbody>\n",
              "</table>\n",
              "</div>"
            ],
            "text/plain": [
              "   Bluecar counter  Utilib counter  ...  Utilib_Counter  Utilib_Counter2\n",
              "0                0               0  ...             NaN              NaN\n",
              "1                6               0  ...             0.0              0.0\n",
              "3                3               1  ...             1.0              0.0\n",
              "4                3               0  ...            -1.0              0.0\n",
              "5                0               0  ...             0.0              0.0\n",
              "\n",
              "[5 rows x 23 columns]"
            ]
          },
          "metadata": {
            "tags": []
          },
          "execution_count": 88
        }
      ]
    },
    {
      "cell_type": "code",
      "metadata": {
        "id": "enF2d5rscViY",
        "colab_type": "code",
        "colab": {
          "base_uri": "https://localhost:8080/",
          "height": 468
        },
        "outputId": "41504583-04d4-4ba1-e5a7-81a48183c7ce"
      },
      "source": [
        "df2[df2['Counter'] < 0].groupby('hour')['hour'].count().sort_values(ascending = False)"
      ],
      "execution_count": null,
      "outputs": [
        {
          "output_type": "execute_result",
          "data": {
            "text/plain": [
              "hour\n",
              "21    68\n",
              "20    55\n",
              "7     55\n",
              "4     52\n",
              "16    52\n",
              "13    51\n",
              "3     49\n",
              "14    48\n",
              "8     48\n",
              "6     48\n",
              "17    47\n",
              "18    47\n",
              "19    47\n",
              "5     46\n",
              "2     45\n",
              "15    44\n",
              "1     42\n",
              "9     42\n",
              "23    41\n",
              "22    39\n",
              "11    38\n",
              "10    37\n",
              "12    37\n",
              "0     34\n",
              "Name: hour, dtype: int64"
            ]
          },
          "metadata": {
            "tags": []
          },
          "execution_count": 89
        }
      ]
    },
    {
      "cell_type": "markdown",
      "metadata": {
        "id": "q3dJdBzfSke4",
        "colab_type": "text"
      },
      "source": [
        "What is the most popular hour for returning cars?"
      ]
    },
    {
      "cell_type": "code",
      "metadata": {
        "id": "yl7cZBV4Srhu",
        "colab_type": "code",
        "colab": {
          "base_uri": "https://localhost:8080/",
          "height": 468
        },
        "outputId": "748b8fb0-bb2a-46e0-fd22-6473597a1bd3"
      },
      "source": [
        "df2[df2['Counter']>0].groupby('hour')['hour'].count().sort_values(ascending = False)"
      ],
      "execution_count": null,
      "outputs": [
        {
          "output_type": "execute_result",
          "data": {
            "text/plain": [
              "hour\n",
              "10    58\n",
              "21    57\n",
              "12    56\n",
              "6     55\n",
              "8     54\n",
              "3     53\n",
              "9     53\n",
              "18    50\n",
              "5     49\n",
              "0     48\n",
              "22    46\n",
              "2     46\n",
              "11    46\n",
              "13    46\n",
              "16    46\n",
              "19    46\n",
              "7     43\n",
              "15    41\n",
              "17    41\n",
              "1     41\n",
              "23    41\n",
              "14    35\n",
              "4     34\n",
              "20    32\n",
              "Name: hour, dtype: int64"
            ]
          },
          "metadata": {
            "tags": []
          },
          "execution_count": 85
        }
      ]
    },
    {
      "cell_type": "markdown",
      "metadata": {
        "id": "L-VrIEhzUZWk",
        "colab_type": "text"
      },
      "source": [
        "What station is the most popular? Overall?\n"
      ]
    },
    {
      "cell_type": "code",
      "metadata": {
        "id": "5SwvQByAUhTV",
        "colab_type": "code",
        "colab": {
          "base_uri": "https://localhost:8080/",
          "height": 243
        },
        "outputId": "2e02e2a8-1a65-4b45-85c9-51cda3272438"
      },
      "source": [
        "df2[(df2['Kind']=='STATION') & (df2['Status']=='ok')].groupby('Public name')['Public name'].count().sort_values(ascending = False)"
      ],
      "execution_count": null,
      "outputs": [
        {
          "output_type": "execute_result",
          "data": {
            "text/plain": [
              "Public name\n",
              "Paris/Porte de Montrouge/8         13\n",
              "Paris/Voltaire/182                 11\n",
              "Paris/Courcelles/69                11\n",
              "Paris/Mathis/35                    11\n",
              "Paris/Philippe Auguste/126         11\n",
              "                                   ..\n",
              "Paris/PÃ©guy/2                      1\n",
              "Paris/Faubourg-Saint-Martin/168     1\n",
              "Paris/Bobillot/16                   1\n",
              "Paris/FÃ©dÃ©ration/10               1\n",
              "Paris/Murat/157                     1\n",
              "Name: Public name, Length: 518, dtype: int64"
            ]
          },
          "metadata": {
            "tags": []
          },
          "execution_count": 86
        }
      ]
    },
    {
      "cell_type": "markdown",
      "metadata": {
        "id": "XQjd4P0mW6jI",
        "colab_type": "text"
      },
      "source": [
        "What station is the most popular? At the most popular picking hour?"
      ]
    },
    {
      "cell_type": "code",
      "metadata": {
        "id": "CP64suI8XFnh",
        "colab_type": "code",
        "colab": {
          "base_uri": "https://localhost:8080/",
          "height": 297
        },
        "outputId": "3db6977b-be7e-4984-f5fc-a886ae7e8f7b"
      },
      "source": [
        "df2[(df2['Kind']=='STATION') & (df2['Status']=='ok') & (df['hour'] == 21)].groupby('Public name')['Public name'].count().sort_values(ascending = False)"
      ],
      "execution_count": null,
      "outputs": [
        {
          "output_type": "stream",
          "text": [
            "/usr/local/lib/python3.6/dist-packages/ipykernel_launcher.py:1: UserWarning: Boolean Series key will be reindexed to match DataFrame index.\n",
            "  \"\"\"Entry point for launching an IPython kernel.\n"
          ],
          "name": "stderr"
        },
        {
          "output_type": "execute_result",
          "data": {
            "text/plain": [
              "Public name\n",
              "Paris/Tronchet/19               4\n",
              "Paris/Voltaire/182              3\n",
              "Paris/Ãmile Reynaud/4          2\n",
              "Paris/Danton/8                  2\n",
              "Paris/Boulard/1                 2\n",
              "                               ..\n",
              "Paris/Pelleport/86              1\n",
              "Paris/Pereire/170               1\n",
              "Paris/Pompe/137                 1\n",
              "Paris/Pont Louis-Philippe/24    1\n",
              "Paris/25 AoÃ»t 1944/8           1\n",
              "Name: Public name, Length: 106, dtype: int64"
            ]
          },
          "metadata": {
            "tags": []
          },
          "execution_count": 87
        }
      ]
    },
    {
      "cell_type": "markdown",
      "metadata": {
        "id": "1YHAKLebaEm0",
        "colab_type": "text"
      },
      "source": [
        "What postal code is the most popular for picking up Blue cars? Does the most popular station belong to that postal code?\n",
        "Overall?"
      ]
    },
    {
      "cell_type": "code",
      "metadata": {
        "id": "B2PwnXMnaJDd",
        "colab_type": "code",
        "colab": {
          "base_uri": "https://localhost:8080/",
          "height": 243
        },
        "outputId": "f1a071f1-0fa4-4e40-c57e-578aacb5dd16"
      },
      "source": [
        "df2[(df2['Kind']=='STATION') & (df2['Status']=='ok')].groupby('Postal code')['Postal code'].count().sort_values(ascending = False)"
      ],
      "execution_count": null,
      "outputs": [
        {
          "output_type": "execute_result",
          "data": {
            "text/plain": [
              "Postal code\n",
              "75015    220\n",
              "75016    197\n",
              "75017    180\n",
              "75013    155\n",
              "75011    155\n",
              "        ... \n",
              "92200      3\n",
              "92340      3\n",
              "94700      3\n",
              "94410      2\n",
              "94100      2\n",
              "Name: Postal code, Length: 100, dtype: int64"
            ]
          },
          "metadata": {
            "tags": []
          },
          "execution_count": 39
        }
      ]
    },
    {
      "cell_type": "markdown",
      "metadata": {
        "id": "Bj-IJI2nawRJ",
        "colab_type": "text"
      },
      "source": [
        "What postal code is the most popular for picking up Blue cars? Does the most popular station belong to that postal code?\n",
        "At the most popular picking hour?"
      ]
    },
    {
      "cell_type": "code",
      "metadata": {
        "id": "ZVTOD-xxaxz8",
        "colab_type": "code",
        "colab": {
          "base_uri": "https://localhost:8080/",
          "height": 453
        },
        "outputId": "db80c62d-48d2-40b4-8232-af753a639dfb"
      },
      "source": [
        "df2[(df2['Kind']=='STATION') & (df2['Status']=='ok') & (df['hour']==21)].groupby('Postal code')['Postal code'].count().sort_values(ascending = False)"
      ],
      "execution_count": null,
      "outputs": [
        {
          "output_type": "stream",
          "text": [
            "/usr/local/lib/python3.6/dist-packages/ipykernel_launcher.py:1: UserWarning: Boolean Series key will be reindexed to match DataFrame index.\n",
            "  \"\"\"Entry point for launching an IPython kernel.\n"
          ],
          "name": "stderr"
        },
        {
          "output_type": "execute_result",
          "data": {
            "text/plain": [
              "Postal code\n",
              "75014    15\n",
              "75019    12\n",
              "75012    11\n",
              "75008    11\n",
              "75016    10\n",
              "75013     9\n",
              "75011     8\n",
              "75015     7\n",
              "75020     5\n",
              "75017     5\n",
              "75007     5\n",
              "75009     4\n",
              "75006     3\n",
              "75003     3\n",
              "75010     3\n",
              "75018     3\n",
              "75005     2\n",
              "75004     2\n",
              "75001     2\n",
              "75002     1\n",
              "Name: Postal code, dtype: int64"
            ]
          },
          "metadata": {
            "tags": []
          },
          "execution_count": 61
        }
      ]
    },
    {
      "cell_type": "markdown",
      "metadata": {
        "id": "Uk_3QWNaiskq",
        "colab_type": "text"
      },
      "source": [
        "UTILIB COUNTER\n"
      ]
    },
    {
      "cell_type": "markdown",
      "metadata": {
        "id": "d3a6usKHg2kP",
        "colab_type": "text"
      },
      "source": [
        "Identify the most popular hour of the day for picking up a shared electric car (Utilib) in the city of Paris over the month of April 2018.\n"
      ]
    },
    {
      "cell_type": "code",
      "metadata": {
        "id": "CQNnWSMAhKhg",
        "colab_type": "code",
        "colab": {
          "base_uri": "https://localhost:8080/",
          "height": 230
        },
        "outputId": "3b212528-477c-4f9f-c601-598e2739f2b9"
      },
      "source": [
        "df2['Utilib_Counter'] = df2['Utilib counter'].diff()\n",
        "df2 = df2[df2['City'] == 'Paris']\n",
        "df2.head(3)"
      ],
      "execution_count": null,
      "outputs": [
        {
          "output_type": "execute_result",
          "data": {
            "text/html": [
              "<div>\n",
              "<style scoped>\n",
              "    .dataframe tbody tr th:only-of-type {\n",
              "        vertical-align: middle;\n",
              "    }\n",
              "\n",
              "    .dataframe tbody tr th {\n",
              "        vertical-align: top;\n",
              "    }\n",
              "\n",
              "    .dataframe thead th {\n",
              "        text-align: right;\n",
              "    }\n",
              "</style>\n",
              "<table border=\"1\" class=\"dataframe\">\n",
              "  <thead>\n",
              "    <tr style=\"text-align: right;\">\n",
              "      <th></th>\n",
              "      <th>Bluecar counter</th>\n",
              "      <th>Utilib counter</th>\n",
              "      <th>Utilib 1.4 counter</th>\n",
              "      <th>Charge Slots</th>\n",
              "      <th>Charging Status</th>\n",
              "      <th>City</th>\n",
              "      <th>Kind</th>\n",
              "      <th>Postal code</th>\n",
              "      <th>Public name</th>\n",
              "      <th>Rental status</th>\n",
              "      <th>Scheduled at</th>\n",
              "      <th>Slots</th>\n",
              "      <th>Station type</th>\n",
              "      <th>Status</th>\n",
              "      <th>Subscription status</th>\n",
              "      <th>year</th>\n",
              "      <th>month</th>\n",
              "      <th>day</th>\n",
              "      <th>hour</th>\n",
              "      <th>minute</th>\n",
              "      <th>Counter</th>\n",
              "      <th>Utilib_Counter</th>\n",
              "      <th>Utilib_Counter2</th>\n",
              "    </tr>\n",
              "  </thead>\n",
              "  <tbody>\n",
              "    <tr>\n",
              "      <th>0</th>\n",
              "      <td>0</td>\n",
              "      <td>0</td>\n",
              "      <td>0</td>\n",
              "      <td>0</td>\n",
              "      <td>nonexistent</td>\n",
              "      <td>Paris</td>\n",
              "      <td>STATION</td>\n",
              "      <td>75015</td>\n",
              "      <td>Paris/Suffren/2</td>\n",
              "      <td>operational</td>\n",
              "      <td>NaN</td>\n",
              "      <td>2</td>\n",
              "      <td>station</td>\n",
              "      <td>ok</td>\n",
              "      <td>nonexistent</td>\n",
              "      <td>2018</td>\n",
              "      <td>4</td>\n",
              "      <td>8</td>\n",
              "      <td>11</td>\n",
              "      <td>43</td>\n",
              "      <td>NaN</td>\n",
              "      <td>NaN</td>\n",
              "      <td>NaN</td>\n",
              "    </tr>\n",
              "    <tr>\n",
              "      <th>1</th>\n",
              "      <td>6</td>\n",
              "      <td>0</td>\n",
              "      <td>0</td>\n",
              "      <td>0</td>\n",
              "      <td>operational</td>\n",
              "      <td>Paris</td>\n",
              "      <td>STATION</td>\n",
              "      <td>75014</td>\n",
              "      <td>Paris/Raymond Losserand/145</td>\n",
              "      <td>operational</td>\n",
              "      <td>NaN</td>\n",
              "      <td>0</td>\n",
              "      <td>station</td>\n",
              "      <td>ok</td>\n",
              "      <td>nonexistent</td>\n",
              "      <td>2018</td>\n",
              "      <td>4</td>\n",
              "      <td>6</td>\n",
              "      <td>7</td>\n",
              "      <td>24</td>\n",
              "      <td>6.0</td>\n",
              "      <td>0.0</td>\n",
              "      <td>0.0</td>\n",
              "    </tr>\n",
              "    <tr>\n",
              "      <th>3</th>\n",
              "      <td>3</td>\n",
              "      <td>1</td>\n",
              "      <td>0</td>\n",
              "      <td>1</td>\n",
              "      <td>operational</td>\n",
              "      <td>Paris</td>\n",
              "      <td>STATION</td>\n",
              "      <td>75013</td>\n",
              "      <td>Paris/EugÃ¨ne OudinÃ©/51</td>\n",
              "      <td>operational</td>\n",
              "      <td>NaN</td>\n",
              "      <td>2</td>\n",
              "      <td>station</td>\n",
              "      <td>ok</td>\n",
              "      <td>nonexistent</td>\n",
              "      <td>2018</td>\n",
              "      <td>4</td>\n",
              "      <td>4</td>\n",
              "      <td>4</td>\n",
              "      <td>37</td>\n",
              "      <td>-3.0</td>\n",
              "      <td>1.0</td>\n",
              "      <td>0.0</td>\n",
              "    </tr>\n",
              "  </tbody>\n",
              "</table>\n",
              "</div>"
            ],
            "text/plain": [
              "   Bluecar counter  Utilib counter  ...  Utilib_Counter  Utilib_Counter2\n",
              "0                0               0  ...             NaN              NaN\n",
              "1                6               0  ...             0.0              0.0\n",
              "3                3               1  ...             1.0              0.0\n",
              "\n",
              "[3 rows x 23 columns]"
            ]
          },
          "metadata": {
            "tags": []
          },
          "execution_count": 74
        }
      ]
    },
    {
      "cell_type": "code",
      "metadata": {
        "id": "I7wWdg-AjZz3",
        "colab_type": "code",
        "colab": {
          "base_uri": "https://localhost:8080/",
          "height": 468
        },
        "outputId": "933dbf52-ba96-48af-f19d-b72df49acf7c"
      },
      "source": [
        "df2[df2['Utilib_Counter'] < 0].groupby('hour')['hour'].count().sort_values(ascending = False)"
      ],
      "execution_count": null,
      "outputs": [
        {
          "output_type": "execute_result",
          "data": {
            "text/plain": [
              "hour\n",
              "9     11\n",
              "11     8\n",
              "14     8\n",
              "13     7\n",
              "7      7\n",
              "8      7\n",
              "10     7\n",
              "21     6\n",
              "5      6\n",
              "6      6\n",
              "18     6\n",
              "17     6\n",
              "16     6\n",
              "15     6\n",
              "23     5\n",
              "19     5\n",
              "20     5\n",
              "0      5\n",
              "12     4\n",
              "3      4\n",
              "2      4\n",
              "1      4\n",
              "22     2\n",
              "4      2\n",
              "Name: hour, dtype: int64"
            ]
          },
          "metadata": {
            "tags": []
          },
          "execution_count": 64
        }
      ]
    },
    {
      "cell_type": "markdown",
      "metadata": {
        "id": "1-mNluTEjLb6",
        "colab_type": "text"
      },
      "source": [
        "What is the most popular hour for returning cars?\n"
      ]
    },
    {
      "cell_type": "code",
      "metadata": {
        "id": "1OWWBbL1juPb",
        "colab_type": "code",
        "colab": {
          "base_uri": "https://localhost:8080/",
          "height": 468
        },
        "outputId": "b7f943e8-42aa-4da6-aee3-db3927eb8f19"
      },
      "source": [
        "df2[df2['Utilib_Counter']>0].groupby('hour')['hour'].count().sort_values(ascending = False)"
      ],
      "execution_count": null,
      "outputs": [
        {
          "output_type": "execute_result",
          "data": {
            "text/plain": [
              "hour\n",
              "6     12\n",
              "11    10\n",
              "17     9\n",
              "8      9\n",
              "14     8\n",
              "10     7\n",
              "21     7\n",
              "18     7\n",
              "7      7\n",
              "2      6\n",
              "15     6\n",
              "3      5\n",
              "5      5\n",
              "0      5\n",
              "12     5\n",
              "13     5\n",
              "9      4\n",
              "16     4\n",
              "20     4\n",
              "22     3\n",
              "4      3\n",
              "19     3\n",
              "1      3\n",
              "23     1\n",
              "Name: hour, dtype: int64"
            ]
          },
          "metadata": {
            "tags": []
          },
          "execution_count": 65
        }
      ]
    },
    {
      "cell_type": "markdown",
      "metadata": {
        "id": "5i0nh9NPkBCO",
        "colab_type": "text"
      },
      "source": [
        "What station is the most popular?\n",
        "Overall?"
      ]
    },
    {
      "cell_type": "code",
      "metadata": {
        "id": "yTshuX0akZ7u",
        "colab_type": "code",
        "colab": {
          "base_uri": "https://localhost:8080/",
          "height": 243
        },
        "outputId": "f0e9550a-fd99-4010-92f5-cb12c0b348a6"
      },
      "source": [
        "df2[(df2['Kind']=='STATION') & (df2['Status']=='ok')].groupby('Public name')['Public name'].count().sort_values(ascending = False)"
      ],
      "execution_count": null,
      "outputs": [
        {
          "output_type": "execute_result",
          "data": {
            "text/plain": [
              "Public name\n",
              "Paris/Porte de Montrouge/8         13\n",
              "Paris/Voltaire/182                 11\n",
              "Paris/Courcelles/69                11\n",
              "Paris/Mathis/35                    11\n",
              "Paris/Philippe Auguste/126         11\n",
              "                                   ..\n",
              "Paris/PÃ©guy/2                      1\n",
              "Paris/Faubourg-Saint-Martin/168     1\n",
              "Paris/Bobillot/16                   1\n",
              "Paris/FÃ©dÃ©ration/10               1\n",
              "Paris/Murat/157                     1\n",
              "Name: Public name, Length: 518, dtype: int64"
            ]
          },
          "metadata": {
            "tags": []
          },
          "execution_count": 66
        }
      ]
    },
    {
      "cell_type": "markdown",
      "metadata": {
        "id": "9DcUbmXfk8x-",
        "colab_type": "text"
      },
      "source": [
        "What station is the most popular? At the most popular picking hour?"
      ]
    },
    {
      "cell_type": "code",
      "metadata": {
        "id": "i9T0_uSclVxK",
        "colab_type": "code",
        "colab": {
          "base_uri": "https://localhost:8080/",
          "height": 297
        },
        "outputId": "8cbb18ba-2768-44b1-8128-83e136316a7a"
      },
      "source": [
        "df2[(df2['Kind']=='STATION') & (df2['Status']=='ok') & (df['hour'] == 6)].groupby('Public name')['Public name'].count().sort_values(ascending = False)"
      ],
      "execution_count": null,
      "outputs": [
        {
          "output_type": "stream",
          "text": [
            "/usr/local/lib/python3.6/dist-packages/ipykernel_launcher.py:1: UserWarning: Boolean Series key will be reindexed to match DataFrame index.\n",
            "  \"\"\"Entry point for launching an IPython kernel.\n"
          ],
          "name": "stderr"
        },
        {
          "output_type": "execute_result",
          "data": {
            "text/plain": [
              "Public name\n",
              "Paris/Saint-HonorÃ©/123       3\n",
              "Paris/Marceau/1               2\n",
              "Paris/Chernoviz/12            2\n",
              "Paris/Julien Lacroix/39       2\n",
              "Paris/IÃ©na/24                2\n",
              "                             ..\n",
              "Paris/Pirogues de Bercy/44    1\n",
              "Paris/Plaine/25               1\n",
              "Paris/Pyramides/12            1\n",
              "Paris/PyrÃ©nÃ©es/236          1\n",
              "Paris/Adolphe Yvon/6          1\n",
              "Name: Public name, Length: 92, dtype: int64"
            ]
          },
          "metadata": {
            "tags": []
          },
          "execution_count": 67
        }
      ]
    },
    {
      "cell_type": "markdown",
      "metadata": {
        "id": "q74OER8gl8dp",
        "colab_type": "text"
      },
      "source": [
        "What postal code is the most popular for picking up Utilib? Does the most popular station belong to that postal code?\n",
        "Overall?"
      ]
    },
    {
      "cell_type": "code",
      "metadata": {
        "id": "ZJTI_Ggzl9i6",
        "colab_type": "code",
        "colab": {
          "base_uri": "https://localhost:8080/",
          "height": 433
        },
        "outputId": "34b1bc2f-9582-4592-c32c-1d4a110bce0c"
      },
      "source": [
        "df2[(df2['Kind']=='STATION') & (df2['Status']=='ok')].groupby('Postal code')['Postal code'].count().sort_values(ascending = False)"
      ],
      "execution_count": null,
      "outputs": [
        {
          "output_type": "execute_result",
          "data": {
            "text/plain": [
              "Postal code\n",
              "75015    220\n",
              "75016    197\n",
              "75017    180\n",
              "75011    155\n",
              "75013    155\n",
              "75008    150\n",
              "75020    149\n",
              "75012    138\n",
              "75019    134\n",
              "75014    128\n",
              "75018    120\n",
              "75007     99\n",
              "75010     98\n",
              "75009     93\n",
              "75005     85\n",
              "75006     74\n",
              "75004     58\n",
              "75003     55\n",
              "75002     54\n",
              "75001     43\n",
              "75112      6\n",
              "75116      5\n",
              "Name: Postal code, dtype: int64"
            ]
          },
          "metadata": {
            "tags": []
          },
          "execution_count": 68
        }
      ]
    },
    {
      "cell_type": "markdown",
      "metadata": {
        "id": "e7zAdT1jmRKx",
        "colab_type": "text"
      },
      "source": [
        "What postal code is the most popular for picking up Utilib? Does the most popular station belong to that postal code?\n",
        "At the most popular picking hour?"
      ]
    },
    {
      "cell_type": "code",
      "metadata": {
        "id": "jpkQx6-ymVA-",
        "colab_type": "code",
        "colab": {
          "base_uri": "https://localhost:8080/",
          "height": 433
        },
        "outputId": "29bfdfa5-2f2f-4939-dc97-d07240340dee"
      },
      "source": [
        "df2[(df2['Kind']=='STATION') & (df2['Status']=='ok') & (df2['hour']== 9)].groupby('Postal code')['Postal code'].count().sort_values(ascending = False)"
      ],
      "execution_count": null,
      "outputs": [
        {
          "output_type": "execute_result",
          "data": {
            "text/plain": [
              "Postal code\n",
              "75011    8\n",
              "75015    8\n",
              "75012    8\n",
              "75017    8\n",
              "75007    7\n",
              "75016    7\n",
              "75010    6\n",
              "75014    6\n",
              "75018    6\n",
              "75009    5\n",
              "75006    5\n",
              "75013    4\n",
              "75019    4\n",
              "75005    3\n",
              "75002    3\n",
              "75008    3\n",
              "75020    3\n",
              "75116    2\n",
              "75001    2\n",
              "75004    1\n",
              "75003    1\n",
              "75112    1\n",
              "Name: Postal code, dtype: int64"
            ]
          },
          "metadata": {
            "tags": []
          },
          "execution_count": 69
        }
      ]
    },
    {
      "cell_type": "markdown",
      "metadata": {
        "id": "TZfQPTSam6x1",
        "colab_type": "text"
      },
      "source": [
        "**UTILIB 1.4**"
      ]
    },
    {
      "cell_type": "markdown",
      "metadata": {
        "id": "LjIGj7Smnel3",
        "colab_type": "text"
      },
      "source": [
        "Identify the most popular hour of the day for picking up a shared electric car (Utilib 1.4) in the city of Paris over the month of April 2018."
      ]
    },
    {
      "cell_type": "code",
      "metadata": {
        "id": "XUfnvhEvnAJ-",
        "colab_type": "code",
        "colab": {
          "base_uri": "https://localhost:8080/",
          "height": 230
        },
        "outputId": "6bd0a440-b6dc-4e18-b2d2-774d9f2b54d6"
      },
      "source": [
        "df2['Utilib_Counter2'] = df2['Utilib 1.4 counter'].diff()\n",
        "df2 = df2[df2['City'] == 'Paris']\n",
        "df2.head(3)"
      ],
      "execution_count": null,
      "outputs": [
        {
          "output_type": "execute_result",
          "data": {
            "text/html": [
              "<div>\n",
              "<style scoped>\n",
              "    .dataframe tbody tr th:only-of-type {\n",
              "        vertical-align: middle;\n",
              "    }\n",
              "\n",
              "    .dataframe tbody tr th {\n",
              "        vertical-align: top;\n",
              "    }\n",
              "\n",
              "    .dataframe thead th {\n",
              "        text-align: right;\n",
              "    }\n",
              "</style>\n",
              "<table border=\"1\" class=\"dataframe\">\n",
              "  <thead>\n",
              "    <tr style=\"text-align: right;\">\n",
              "      <th></th>\n",
              "      <th>Bluecar counter</th>\n",
              "      <th>Utilib counter</th>\n",
              "      <th>Utilib 1.4 counter</th>\n",
              "      <th>Charge Slots</th>\n",
              "      <th>Charging Status</th>\n",
              "      <th>City</th>\n",
              "      <th>Kind</th>\n",
              "      <th>Postal code</th>\n",
              "      <th>Public name</th>\n",
              "      <th>Rental status</th>\n",
              "      <th>Scheduled at</th>\n",
              "      <th>Slots</th>\n",
              "      <th>Station type</th>\n",
              "      <th>Status</th>\n",
              "      <th>Subscription status</th>\n",
              "      <th>year</th>\n",
              "      <th>month</th>\n",
              "      <th>day</th>\n",
              "      <th>hour</th>\n",
              "      <th>minute</th>\n",
              "      <th>Counter</th>\n",
              "      <th>Utilib_Counter</th>\n",
              "      <th>Utilib_Counter2</th>\n",
              "    </tr>\n",
              "  </thead>\n",
              "  <tbody>\n",
              "    <tr>\n",
              "      <th>0</th>\n",
              "      <td>0</td>\n",
              "      <td>0</td>\n",
              "      <td>0</td>\n",
              "      <td>0</td>\n",
              "      <td>nonexistent</td>\n",
              "      <td>Paris</td>\n",
              "      <td>STATION</td>\n",
              "      <td>75015</td>\n",
              "      <td>Paris/Suffren/2</td>\n",
              "      <td>operational</td>\n",
              "      <td>NaN</td>\n",
              "      <td>2</td>\n",
              "      <td>station</td>\n",
              "      <td>ok</td>\n",
              "      <td>nonexistent</td>\n",
              "      <td>2018</td>\n",
              "      <td>4</td>\n",
              "      <td>8</td>\n",
              "      <td>11</td>\n",
              "      <td>43</td>\n",
              "      <td>NaN</td>\n",
              "      <td>NaN</td>\n",
              "      <td>NaN</td>\n",
              "    </tr>\n",
              "    <tr>\n",
              "      <th>1</th>\n",
              "      <td>6</td>\n",
              "      <td>0</td>\n",
              "      <td>0</td>\n",
              "      <td>0</td>\n",
              "      <td>operational</td>\n",
              "      <td>Paris</td>\n",
              "      <td>STATION</td>\n",
              "      <td>75014</td>\n",
              "      <td>Paris/Raymond Losserand/145</td>\n",
              "      <td>operational</td>\n",
              "      <td>NaN</td>\n",
              "      <td>0</td>\n",
              "      <td>station</td>\n",
              "      <td>ok</td>\n",
              "      <td>nonexistent</td>\n",
              "      <td>2018</td>\n",
              "      <td>4</td>\n",
              "      <td>6</td>\n",
              "      <td>7</td>\n",
              "      <td>24</td>\n",
              "      <td>6.0</td>\n",
              "      <td>0.0</td>\n",
              "      <td>0.0</td>\n",
              "    </tr>\n",
              "    <tr>\n",
              "      <th>3</th>\n",
              "      <td>3</td>\n",
              "      <td>1</td>\n",
              "      <td>0</td>\n",
              "      <td>1</td>\n",
              "      <td>operational</td>\n",
              "      <td>Paris</td>\n",
              "      <td>STATION</td>\n",
              "      <td>75013</td>\n",
              "      <td>Paris/EugÃ¨ne OudinÃ©/51</td>\n",
              "      <td>operational</td>\n",
              "      <td>NaN</td>\n",
              "      <td>2</td>\n",
              "      <td>station</td>\n",
              "      <td>ok</td>\n",
              "      <td>nonexistent</td>\n",
              "      <td>2018</td>\n",
              "      <td>4</td>\n",
              "      <td>4</td>\n",
              "      <td>4</td>\n",
              "      <td>37</td>\n",
              "      <td>-3.0</td>\n",
              "      <td>1.0</td>\n",
              "      <td>0.0</td>\n",
              "    </tr>\n",
              "  </tbody>\n",
              "</table>\n",
              "</div>"
            ],
            "text/plain": [
              "   Bluecar counter  Utilib counter  ...  Utilib_Counter  Utilib_Counter2\n",
              "0                0               0  ...             NaN              NaN\n",
              "1                6               0  ...             0.0              0.0\n",
              "3                3               1  ...             1.0              0.0\n",
              "\n",
              "[3 rows x 23 columns]"
            ]
          },
          "metadata": {
            "tags": []
          },
          "execution_count": 73
        }
      ]
    },
    {
      "cell_type": "code",
      "metadata": {
        "id": "ypVxLPLjoTjx",
        "colab_type": "code",
        "colab": {
          "base_uri": "https://localhost:8080/",
          "height": 468
        },
        "outputId": "3f9d72c6-4d1c-4838-8e08-ae3b68b2af9a"
      },
      "source": [
        "df2[df2['Utilib_Counter2'] < 0].groupby('hour')['hour'].count().sort_values(ascending = False)"
      ],
      "execution_count": null,
      "outputs": [
        {
          "output_type": "execute_result",
          "data": {
            "text/plain": [
              "hour\n",
              "8     17\n",
              "3     16\n",
              "4     14\n",
              "19    13\n",
              "17    13\n",
              "23    12\n",
              "22    12\n",
              "2     12\n",
              "5     12\n",
              "10    12\n",
              "6     11\n",
              "0     11\n",
              "12    11\n",
              "14    11\n",
              "16    11\n",
              "20    11\n",
              "13    10\n",
              "7     10\n",
              "21    10\n",
              "15     9\n",
              "11     9\n",
              "18     8\n",
              "9      7\n",
              "1      5\n",
              "Name: hour, dtype: int64"
            ]
          },
          "metadata": {
            "tags": []
          },
          "execution_count": 76
        }
      ]
    },
    {
      "cell_type": "markdown",
      "metadata": {
        "id": "GeM8Gz-Ooqti",
        "colab_type": "text"
      },
      "source": [
        "What is the most popular hour for returning cars?"
      ]
    },
    {
      "cell_type": "code",
      "metadata": {
        "id": "gXNz2WZgouAa",
        "colab_type": "code",
        "colab": {
          "base_uri": "https://localhost:8080/",
          "height": 468
        },
        "outputId": "666fdd77-c965-49d2-c8c9-43731e0bb8e9"
      },
      "source": [
        "df2[df2['Utilib_Counter2']>0].groupby('hour')['hour'].count().sort_values(ascending = False)"
      ],
      "execution_count": null,
      "outputs": [
        {
          "output_type": "execute_result",
          "data": {
            "text/plain": [
              "hour\n",
              "9     18\n",
              "21    16\n",
              "17    15\n",
              "22    15\n",
              "6     14\n",
              "19    13\n",
              "3     13\n",
              "5     13\n",
              "10    13\n",
              "15    12\n",
              "1     11\n",
              "16    11\n",
              "13    10\n",
              "12    10\n",
              "23     9\n",
              "7      9\n",
              "11     9\n",
              "14     9\n",
              "18     9\n",
              "8      8\n",
              "4      8\n",
              "20     8\n",
              "0      7\n",
              "2      6\n",
              "Name: hour, dtype: int64"
            ]
          },
          "metadata": {
            "tags": []
          },
          "execution_count": 78
        }
      ]
    },
    {
      "cell_type": "markdown",
      "metadata": {
        "id": "fL63ti8so7LI",
        "colab_type": "text"
      },
      "source": [
        "What station is the most popular?\n",
        "Overall?"
      ]
    },
    {
      "cell_type": "code",
      "metadata": {
        "id": "H92J8K0-pkNx",
        "colab_type": "code",
        "colab": {
          "base_uri": "https://localhost:8080/",
          "height": 243
        },
        "outputId": "654e4471-0bdc-4c26-f1c5-4b58ba876eb2"
      },
      "source": [
        "df2[(df2['Kind']=='STATION') & (df2['Status']=='ok')].groupby('Public name')['Public name'].count().sort_values(ascending = False)"
      ],
      "execution_count": null,
      "outputs": [
        {
          "output_type": "execute_result",
          "data": {
            "text/plain": [
              "Public name\n",
              "Paris/Porte de Montrouge/8         13\n",
              "Paris/Voltaire/182                 11\n",
              "Paris/Courcelles/69                11\n",
              "Paris/Mathis/35                    11\n",
              "Paris/Philippe Auguste/126         11\n",
              "                                   ..\n",
              "Paris/PÃ©guy/2                      1\n",
              "Paris/Faubourg-Saint-Martin/168     1\n",
              "Paris/Bobillot/16                   1\n",
              "Paris/FÃ©dÃ©ration/10               1\n",
              "Paris/Murat/157                     1\n",
              "Name: Public name, Length: 518, dtype: int64"
            ]
          },
          "metadata": {
            "tags": []
          },
          "execution_count": 79
        }
      ]
    },
    {
      "cell_type": "markdown",
      "metadata": {
        "id": "wzrSW7pxptFR",
        "colab_type": "text"
      },
      "source": [
        "What station is the most popular? At the most popular picking hour?"
      ]
    },
    {
      "cell_type": "code",
      "metadata": {
        "id": "Pg4SbqBLq2H1",
        "colab_type": "code",
        "colab": {
          "base_uri": "https://localhost:8080/",
          "height": 297
        },
        "outputId": "2f8a3d69-df92-40df-c7ac-747e048fe40a"
      },
      "source": [
        "df2[(df2['Kind']=='STATION') & (df2['Status']=='ok') & (df['hour'] == 8)].groupby('Public name')['Public name'].count().sort_values(ascending = False)"
      ],
      "execution_count": null,
      "outputs": [
        {
          "output_type": "stream",
          "text": [
            "/usr/local/lib/python3.6/dist-packages/ipykernel_launcher.py:1: UserWarning: Boolean Series key will be reindexed to match DataFrame index.\n",
            "  \"\"\"Entry point for launching an IPython kernel.\n"
          ],
          "name": "stderr"
        },
        {
          "output_type": "execute_result",
          "data": {
            "text/plain": [
              "Public name\n",
              "Paris/Porte de Villiers/28     3\n",
              "Paris/HÃ©ricart/54             2\n",
              "Paris/Philippe Auguste/126     2\n",
              "Paris/Bosquet/81               2\n",
              "Paris/Schomberg/1              2\n",
              "                              ..\n",
              "Paris/Quatre septembre/10      1\n",
              "Paris/Ranelagh/10              1\n",
              "Paris/RapÃ©e/46                1\n",
              "Paris/Raymond Losserand/229    1\n",
              "Paris/Alexandrie/7             1\n",
              "Name: Public name, Length: 103, dtype: int64"
            ]
          },
          "metadata": {
            "tags": []
          },
          "execution_count": 80
        }
      ]
    },
    {
      "cell_type": "markdown",
      "metadata": {
        "id": "3WPomhy1rKx5",
        "colab_type": "text"
      },
      "source": [
        "What postal code is the most popular for picking up Utilib 1.4 cars? Does the most popular station belong to that postal code?\n",
        "Overall?"
      ]
    },
    {
      "cell_type": "code",
      "metadata": {
        "id": "N5Gsl7G9rP3s",
        "colab_type": "code",
        "colab": {
          "base_uri": "https://localhost:8080/",
          "height": 433
        },
        "outputId": "64a0c8a9-e3dc-4930-c33a-308fca11f42d"
      },
      "source": [
        "df2[(df2['Kind']=='STATION') & (df2['Status']=='ok')].groupby('Postal code')['Postal code'].count().sort_values(ascending = False)"
      ],
      "execution_count": null,
      "outputs": [
        {
          "output_type": "execute_result",
          "data": {
            "text/plain": [
              "Postal code\n",
              "75015    220\n",
              "75016    197\n",
              "75017    180\n",
              "75011    155\n",
              "75013    155\n",
              "75008    150\n",
              "75020    149\n",
              "75012    138\n",
              "75019    134\n",
              "75014    128\n",
              "75018    120\n",
              "75007     99\n",
              "75010     98\n",
              "75009     93\n",
              "75005     85\n",
              "75006     74\n",
              "75004     58\n",
              "75003     55\n",
              "75002     54\n",
              "75001     43\n",
              "75112      6\n",
              "75116      5\n",
              "Name: Postal code, dtype: int64"
            ]
          },
          "metadata": {
            "tags": []
          },
          "execution_count": 81
        }
      ]
    },
    {
      "cell_type": "markdown",
      "metadata": {
        "id": "xy9QUmNGrpIs",
        "colab_type": "text"
      },
      "source": [
        "What postal code is the most popular for picking up Utilib 1.4 cars? Does the most popular station belong to that postal code? At the most popular picking hour?"
      ]
    },
    {
      "cell_type": "code",
      "metadata": {
        "id": "e9JpICryru0v",
        "colab_type": "code",
        "colab": {
          "base_uri": "https://localhost:8080/",
          "height": 399
        },
        "outputId": "24624202-298d-4ee4-cfdf-ecc49d1b7aed"
      },
      "source": [
        "df2[(df2['Kind']=='STATION') & (df2['Status']=='ok') & (df2['hour']== 8)].groupby('Postal code')['Postal code'].count().sort_values(ascending = False)"
      ],
      "execution_count": null,
      "outputs": [
        {
          "output_type": "execute_result",
          "data": {
            "text/plain": [
              "Postal code\n",
              "75015    13\n",
              "75017    10\n",
              "75011    10\n",
              "75010     8\n",
              "75019     8\n",
              "75013     7\n",
              "75016     7\n",
              "75020     6\n",
              "75012     5\n",
              "75018     5\n",
              "75008     5\n",
              "75005     4\n",
              "75009     3\n",
              "75007     3\n",
              "75003     3\n",
              "75002     3\n",
              "75001     3\n",
              "75014     2\n",
              "75006     2\n",
              "75004     2\n",
              "Name: Postal code, dtype: int64"
            ]
          },
          "metadata": {
            "tags": []
          },
          "execution_count": 82
        }
      ]
    }
  ]
}